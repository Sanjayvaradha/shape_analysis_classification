{
  "nbformat": 4,
  "nbformat_minor": 0,
  "metadata": {
    "colab": {
      "provenance": [],
      "collapsed_sections": [],
      "authorship_tag": "ABX9TyOhroQsibrW7b4/iFOyOFtm",
      "include_colab_link": true
    },
    "kernelspec": {
      "name": "python3",
      "display_name": "Python 3"
    },
    "language_info": {
      "name": "python"
    },
    "gpuClass": "standard"
  },
  "cells": [
    {
      "cell_type": "markdown",
      "metadata": {
        "id": "view-in-github",
        "colab_type": "text"
      },
      "source": [
        "<a href=\"https://colab.research.google.com/github/Sanjayvaradha/shape_analysis_classification/blob/main/Shape_analysis.ipynb\" target=\"_parent\"><img src=\"https://colab.research.google.com/assets/colab-badge.svg\" alt=\"Open In Colab\"/></a>"
      ]
    },
    {
      "cell_type": "code",
      "execution_count": 1,
      "metadata": {
        "id": "nWfWxeALSEY2"
      },
      "outputs": [],
      "source": [
        "import tensorflow as tf\n",
        "import os\n",
        "import cv2"
      ]
    },
    {
      "cell_type": "code",
      "source": [
        "import numpy as np\n",
        "from matplotlib import pyplot as plt"
      ],
      "metadata": {
        "id": "0r93GH_ySsFC"
      },
      "execution_count": 2,
      "outputs": []
    },
    {
      "cell_type": "code",
      "source": [
        "from google.colab import drive\n",
        "drive.mount('/content/drive/')"
      ],
      "metadata": {
        "id": "9e5GvvYkS7YZ",
        "outputId": "86919c5b-0f73-40ce-c849-fcff9852260f",
        "colab": {
          "base_uri": "https://localhost:8080/"
        }
      },
      "execution_count": 3,
      "outputs": [
        {
          "output_type": "stream",
          "name": "stdout",
          "text": [
            "Mounted at /content/drive/\n"
          ]
        }
      ]
    },
    {
      "cell_type": "code",
      "source": [
        "data=\"/content/drive/MyDrive/aiviz_data\""
      ],
      "metadata": {
        "id": "nMlgIAFYTgbS"
      },
      "execution_count": null,
      "outputs": []
    },
    {
      "cell_type": "code",
      "source": [
        "data = tf.keras.utils.image_dataset_from_directory(data)"
      ],
      "metadata": {
        "id": "oZnOu2XrS-Bh",
        "colab": {
          "base_uri": "https://localhost:8080/"
        },
        "outputId": "578378d8-0dc2-4261-8ebc-8ce53769c3cb"
      },
      "execution_count": null,
      "outputs": [
        {
          "output_type": "stream",
          "name": "stdout",
          "text": [
            "Found 600 files belonging to 2 classes.\n"
          ]
        }
      ]
    },
    {
      "cell_type": "code",
      "source": [
        "data_numpy = data.as_numpy_iterator()"
      ],
      "metadata": {
        "id": "6QN25uMYT8Mo"
      },
      "execution_count": null,
      "outputs": []
    },
    {
      "cell_type": "code",
      "source": [
        "batch=data_numpy.next()"
      ],
      "metadata": {
        "id": "Hkg-5Xx3UNYE"
      },
      "execution_count": null,
      "outputs": []
    },
    {
      "cell_type": "code",
      "source": [
        "batch[0].shape"
      ],
      "metadata": {
        "colab": {
          "base_uri": "https://localhost:8080/"
        },
        "id": "X8BDW6OXXOwA",
        "outputId": "3f6ad78c-de83-402d-8e6f-df89bad6a6e7"
      },
      "execution_count": null,
      "outputs": [
        {
          "output_type": "execute_result",
          "data": {
            "text/plain": [
              "(32, 256, 256, 3)"
            ]
          },
          "metadata": {},
          "execution_count": 39
        }
      ]
    },
    {
      "cell_type": "code",
      "source": [
        "fig,ax = plt.subplots(ncols=4,figsize=(8,8))\n",
        "for idx, img in enumerate(batch[0][:4]):\n",
        "    ax[idx].imshow(img.astype(int))\n",
        "    ax[idx].title.set_text(batch[1][idx])"
      ],
      "metadata": {
        "colab": {
          "base_uri": "https://localhost:8080/",
          "height": 161
        },
        "id": "2R7qcpt5CPdp",
        "outputId": "ae177795-4266-4699-e356-61fc270782d5"
      },
      "execution_count": null,
      "outputs": [
        {
          "output_type": "display_data",
          "data": {
            "text/plain": [
              "<Figure size 576x576 with 4 Axes>"
            ],
            "image/png": "[encoded data removed]"
          },
          "metadata": {
            "needs_background": "light"
          }
        }
      ]
    },
    {
      "cell_type": "code",
      "source": [
        "data = data.map(lambda x,y:(x/255,y))"
      ],
      "metadata": {
        "id": "JCIkOQroU-57"
      },
      "execution_count": null,
      "outputs": []
    },
    {
      "cell_type": "code",
      "source": [
        "train_size = int(len(data)*.7)+1\n",
        "val_size = int(len(data)*.3)"
      ],
      "metadata": {
        "id": "VzRavk9gVMYy"
      },
      "execution_count": null,
      "outputs": []
    },
    {
      "cell_type": "code",
      "source": [
        "train = data.take(train_size)\n",
        "val = data.skip(train_size).take(val_size)"
      ],
      "metadata": {
        "id": "JWyp8LqtVYaT"
      },
      "execution_count": null,
      "outputs": []
    },
    {
      "cell_type": "code",
      "source": [
        "print(len(train),len(val))"
      ],
      "metadata": {
        "colab": {
          "base_uri": "https://localhost:8080/"
        },
        "id": "AB9vaK4wWTQG",
        "outputId": "a26cdea7-fcee-4fbe-9a96-9bea95aedeb0"
      },
      "execution_count": null,
      "outputs": [
        {
          "output_type": "stream",
          "name": "stdout",
          "text": [
            "14 5\n"
          ]
        }
      ]
    },
    {
      "cell_type": "code",
      "source": [
        "from tensorflow.keras.models import Sequential\n",
        "from tensorflow.keras.layers import Conv2D, MaxPooling2D, Dense, Flatten, Dropout"
      ],
      "metadata": {
        "id": "Pd5VrjuQYDY7"
      },
      "execution_count": 9,
      "outputs": []
    },
    {
      "cell_type": "code",
      "source": [
        "model = Sequential()"
      ],
      "metadata": {
        "id": "KZTESDLVYIlG"
      },
      "execution_count": 10,
      "outputs": []
    },
    {
      "cell_type": "code",
      "source": [
        "model.add(Conv2D(16, (3,3), 1, activation='relu', input_shape=(256,256,3)))\n",
        "model.add(MaxPooling2D())\n",
        "\n",
        "model.add(Conv2D(32, (3,3), 1, activation='relu'))\n",
        "model.add(MaxPooling2D())\n",
        "\n",
        "model.add(Conv2D(16, (3,3), 1, activation='relu'))\n",
        "model.add(MaxPooling2D())\n",
        "\n",
        "model.add(Flatten())\n",
        "model.add(Dense(256, activation='relu'))\n",
        "model.add(Dense(1, activation='sigmoid'))"
      ],
      "metadata": {
        "id": "_AvYksACYKxE"
      },
      "execution_count": 11,
      "outputs": []
    },
    {
      "cell_type": "code",
      "source": [
        "model.compile(optimizer='adam', loss=tf.losses.BinaryCrossentropy(), metrics=['accuracy'])"
      ],
      "metadata": {
        "id": "AtZVEOT2YM7k"
      },
      "execution_count": null,
      "outputs": []
    },
    {
      "cell_type": "code",
      "source": [
        "model.summary()"
      ],
      "metadata": {
        "colab": {
          "base_uri": "https://localhost:8080/"
        },
        "id": "6Q5WTOsaYPLK",
        "outputId": "c016a452-53e5-4279-e6d4-5a10da337185"
      },
      "execution_count": 12,
      "outputs": [
        {
          "output_type": "stream",
          "name": "stdout",
          "text": [
            "Model: \"sequential\"\n",
            "_________________________________________________________________\n",
            " Layer (type)                Output Shape              Param #   \n",
            "=================================================================\n",
            " conv2d (Conv2D)             (None, 254, 254, 16)      448       \n",
            "                                                                 \n",
            " max_pooling2d (MaxPooling2D  (None, 127, 127, 16)     0         \n",
            " )                                                               \n",
            "                                                                 \n",
            " conv2d_1 (Conv2D)           (None, 125, 125, 32)      4640      \n",
            "                                                                 \n",
            " max_pooling2d_1 (MaxPooling  (None, 62, 62, 32)       0         \n",
            " 2D)                                                             \n",
            "                                                                 \n",
            " conv2d_2 (Conv2D)           (None, 60, 60, 16)        4624      \n",
            "                                                                 \n",
            " max_pooling2d_2 (MaxPooling  (None, 30, 30, 16)       0         \n",
            " 2D)                                                             \n",
            "                                                                 \n",
            " flatten (Flatten)           (None, 14400)             0         \n",
            "                                                                 \n",
            " dense (Dense)               (None, 256)               3686656   \n",
            "                                                                 \n",
            " dense_1 (Dense)             (None, 1)                 257       \n",
            "                                                                 \n",
            "=================================================================\n",
            "Total params: 3,696,625\n",
            "Trainable params: 3,696,625\n",
            "Non-trainable params: 0\n",
            "_________________________________________________________________\n"
          ]
        }
      ]
    },
    {
      "cell_type": "code",
      "source": [
        "#logdir='/content/drive/MyDrive/aiviz_data_model/new_logs'"
      ],
      "metadata": {
        "id": "N09pYu6jYRLX"
      },
      "execution_count": null,
      "outputs": []
    },
    {
      "cell_type": "code",
      "source": [
        "#tensorboard_callback = tf.keras.callbacks.TensorBoard(log_dir=logdir)"
      ],
      "metadata": {
        "id": "hgybol0NYdht"
      },
      "execution_count": null,
      "outputs": []
    },
    {
      "cell_type": "code",
      "source": [
        "history = model.fit(train, epochs=40, validation_data=val, callbacks=[tensorboard_callback])"
      ],
      "metadata": {
        "colab": {
          "base_uri": "https://localhost:8080/"
        },
        "id": "VQElrnxaYfYe",
        "outputId": "6d6ab0de-5244-407e-ea44-36742126d5e6"
      },
      "execution_count": null,
      "outputs": [
        {
          "output_type": "stream",
          "name": "stdout",
          "text": [
            "Epoch 1/40\n",
            "14/14 [==============================] - 3s 178ms/step - loss: 0.7082 - accuracy: 0.5112 - val_loss: 0.6890 - val_accuracy: 0.5658\n",
            "Epoch 2/40\n",
            "14/14 [==============================] - 4s 247ms/step - loss: 0.6820 - accuracy: 0.6049 - val_loss: 0.6614 - val_accuracy: 0.6447\n",
            "Epoch 3/40\n",
            "14/14 [==============================] - 3s 162ms/step - loss: 0.6657 - accuracy: 0.6071 - val_loss: 0.6571 - val_accuracy: 0.6053\n",
            "Epoch 4/40\n",
            "14/14 [==============================] - 3s 168ms/step - loss: 0.6389 - accuracy: 0.6674 - val_loss: 0.5951 - val_accuracy: 0.6579\n",
            "Epoch 5/40\n",
            "14/14 [==============================] - 3s 157ms/step - loss: 0.5750 - accuracy: 0.7009 - val_loss: 0.5422 - val_accuracy: 0.7171\n",
            "Epoch 6/40\n",
            "14/14 [==============================] - 3s 154ms/step - loss: 0.5250 - accuracy: 0.7455 - val_loss: 0.4783 - val_accuracy: 0.7697\n",
            "Epoch 7/40\n",
            "14/14 [==============================] - 2s 153ms/step - loss: 0.4840 - accuracy: 0.7701 - val_loss: 0.4153 - val_accuracy: 0.7895\n",
            "Epoch 8/40\n",
            "14/14 [==============================] - 3s 156ms/step - loss: 0.3935 - accuracy: 0.8348 - val_loss: 0.3874 - val_accuracy: 0.8224\n",
            "Epoch 9/40\n",
            "14/14 [==============================] - 3s 155ms/step - loss: 0.3480 - accuracy: 0.8705 - val_loss: 0.5376 - val_accuracy: 0.7105\n",
            "Epoch 10/40\n",
            "14/14 [==============================] - 2s 152ms/step - loss: 0.3398 - accuracy: 0.8371 - val_loss: 0.3348 - val_accuracy: 0.8553\n",
            "Epoch 11/40\n",
            "14/14 [==============================] - 3s 164ms/step - loss: 0.2565 - accuracy: 0.9018 - val_loss: 0.2206 - val_accuracy: 0.9211\n",
            "Epoch 12/40\n",
            "14/14 [==============================] - 3s 167ms/step - loss: 0.1949 - accuracy: 0.9375 - val_loss: 0.2439 - val_accuracy: 0.9013\n",
            "Epoch 13/40\n",
            "14/14 [==============================] - 3s 165ms/step - loss: 0.1976 - accuracy: 0.9129 - val_loss: 0.1583 - val_accuracy: 0.9276\n",
            "Epoch 14/40\n",
            "14/14 [==============================] - 3s 154ms/step - loss: 0.1499 - accuracy: 0.9442 - val_loss: 0.2024 - val_accuracy: 0.9211\n",
            "Epoch 15/40\n",
            "14/14 [==============================] - 2s 152ms/step - loss: 0.1355 - accuracy: 0.9397 - val_loss: 0.1519 - val_accuracy: 0.9211\n",
            "Epoch 16/40\n",
            "14/14 [==============================] - 2s 152ms/step - loss: 0.1340 - accuracy: 0.9576 - val_loss: 0.1394 - val_accuracy: 0.9474\n",
            "Epoch 17/40\n",
            "14/14 [==============================] - 3s 165ms/step - loss: 0.1097 - accuracy: 0.9554 - val_loss: 0.0985 - val_accuracy: 0.9408\n",
            "Epoch 18/40\n",
            "14/14 [==============================] - 2s 152ms/step - loss: 0.0836 - accuracy: 0.9754 - val_loss: 0.1097 - val_accuracy: 0.9671\n",
            "Epoch 19/40\n",
            "14/14 [==============================] - 2s 152ms/step - loss: 0.0830 - accuracy: 0.9777 - val_loss: 0.0672 - val_accuracy: 0.9868\n",
            "Epoch 20/40\n",
            "14/14 [==============================] - 3s 167ms/step - loss: 0.0522 - accuracy: 0.9866 - val_loss: 0.1120 - val_accuracy: 0.9605\n",
            "Epoch 21/40\n",
            "14/14 [==============================] - 3s 165ms/step - loss: 0.0850 - accuracy: 0.9688 - val_loss: 0.1003 - val_accuracy: 0.9605\n",
            "Epoch 22/40\n",
            "14/14 [==============================] - 3s 165ms/step - loss: 0.0745 - accuracy: 0.9710 - val_loss: 0.0502 - val_accuracy: 0.9934\n",
            "Epoch 23/40\n",
            "14/14 [==============================] - 2s 154ms/step - loss: 0.1080 - accuracy: 0.9576 - val_loss: 0.0916 - val_accuracy: 0.9539\n",
            "Epoch 24/40\n",
            "14/14 [==============================] - 3s 165ms/step - loss: 0.1194 - accuracy: 0.9420 - val_loss: 0.0948 - val_accuracy: 0.9671\n",
            "Epoch 25/40\n",
            "14/14 [==============================] - 3s 156ms/step - loss: 0.0609 - accuracy: 0.9821 - val_loss: 0.1079 - val_accuracy: 0.9671\n",
            "Epoch 26/40\n",
            "14/14 [==============================] - 3s 166ms/step - loss: 0.0518 - accuracy: 0.9799 - val_loss: 0.0936 - val_accuracy: 0.9868\n",
            "Epoch 27/40\n",
            "14/14 [==============================] - 3s 165ms/step - loss: 0.0483 - accuracy: 0.9888 - val_loss: 0.0572 - val_accuracy: 0.9605\n",
            "Epoch 28/40\n",
            "14/14 [==============================] - 3s 216ms/step - loss: 0.0582 - accuracy: 0.9799 - val_loss: 0.0721 - val_accuracy: 0.9671\n",
            "Epoch 29/40\n",
            "14/14 [==============================] - 3s 154ms/step - loss: 0.0737 - accuracy: 0.9777 - val_loss: 0.0863 - val_accuracy: 0.9671\n",
            "Epoch 30/40\n",
            "14/14 [==============================] - 3s 167ms/step - loss: 0.0688 - accuracy: 0.9821 - val_loss: 0.1194 - val_accuracy: 0.9342\n",
            "Epoch 31/40\n",
            "14/14 [==============================] - 2s 152ms/step - loss: 0.0417 - accuracy: 0.9911 - val_loss: 0.0122 - val_accuracy: 1.0000\n",
            "Epoch 32/40\n",
            "14/14 [==============================] - 3s 168ms/step - loss: 0.0242 - accuracy: 0.9911 - val_loss: 0.0398 - val_accuracy: 0.9868\n",
            "Epoch 33/40\n",
            "14/14 [==============================] - 2s 154ms/step - loss: 0.0290 - accuracy: 0.9933 - val_loss: 0.0932 - val_accuracy: 0.9803\n",
            "Epoch 34/40\n",
            "14/14 [==============================] - 3s 156ms/step - loss: 0.0563 - accuracy: 0.9799 - val_loss: 0.0522 - val_accuracy: 0.9803\n",
            "Epoch 35/40\n",
            "14/14 [==============================] - 2s 150ms/step - loss: 0.0366 - accuracy: 0.9933 - val_loss: 0.0386 - val_accuracy: 0.9868\n",
            "Epoch 36/40\n",
            "14/14 [==============================] - 3s 166ms/step - loss: 0.0337 - accuracy: 0.9866 - val_loss: 0.0363 - val_accuracy: 0.9934\n",
            "Epoch 37/40\n",
            "14/14 [==============================] - 3s 165ms/step - loss: 0.0309 - accuracy: 0.9866 - val_loss: 0.0375 - val_accuracy: 0.9868\n",
            "Epoch 38/40\n",
            "14/14 [==============================] - 3s 165ms/step - loss: 0.0299 - accuracy: 0.9888 - val_loss: 0.0418 - val_accuracy: 0.9803\n",
            "Epoch 39/40\n",
            "14/14 [==============================] - 3s 165ms/step - loss: 0.0693 - accuracy: 0.9665 - val_loss: 0.0344 - val_accuracy: 0.9868\n",
            "Epoch 40/40\n",
            "14/14 [==============================] - 3s 156ms/step - loss: 0.0368 - accuracy: 0.9866 - val_loss: 0.0495 - val_accuracy: 0.9737\n"
          ]
        }
      ]
    },
    {
      "cell_type": "code",
      "source": [
        "fig = plt.figure()\n",
        "plt.plot(history.history['loss'], color='teal', label='loss')\n",
        "plt.plot(history.history['val_loss'], color='orange', label='val_loss')\n",
        "fig.suptitle('Loss', fontsize=20)\n",
        "plt.legend(loc=\"upper left\")\n",
        "plt.show()"
      ],
      "metadata": {
        "colab": {
          "base_uri": "https://localhost:8080/",
          "height": 294
        },
        "id": "EamJ2_DsaCOx",
        "outputId": "5ef05748-8175-4170-84dd-b38e7d84900a"
      },
      "execution_count": null,
      "outputs": [
        {
          "output_type": "display_data",
          "data": {
            "text/plain": [
              "<Figure size 432x288 with 1 Axes>"
            ],
            "image/png": "[encoded data removed]"
          },
          "metadata": {
            "needs_background": "light"
          }
        }
      ]
    },
    {
      "cell_type": "code",
      "source": [
        "fig = plt.figure()\n",
        "plt.plot(history.history['accuracy'], color='teal', label='accuracy')\n",
        "plt.plot(history.history['val_accuracy'], color='orange', label='val_accuracy')\n",
        "fig.suptitle('Accuracy', fontsize=20)\n",
        "plt.legend(loc=\"upper left\")\n",
        "plt.show()"
      ],
      "metadata": {
        "colab": {
          "base_uri": "https://localhost:8080/",
          "height": 294
        },
        "id": "XoCYUbCBbRTK",
        "outputId": "fe88dc1c-00b4-4b0d-f53c-e1156188dd11"
      },
      "execution_count": null,
      "outputs": [
        {
          "output_type": "display_data",
          "data": {
            "text/plain": [
              "<Figure size 432x288 with 1 Axes>"
            ],
            "image/png": "[encoded data removed]"
          },
          "metadata": {
            "needs_background": "light"
          }
        }
      ]
    },
    {
      "cell_type": "code",
      "source": [
        "from tensorflow.keras.models import load_model"
      ],
      "metadata": {
        "id": "C1yK5IuZzj6t"
      },
      "execution_count": 4,
      "outputs": []
    },
    {
      "cell_type": "code",
      "source": [
        "#model.save(\"/content/drive/MyDrive/aiviz_data_model/new_shape_analysis.h5\")"
      ],
      "metadata": {
        "id": "JrmInSaFD7lo"
      },
      "execution_count": null,
      "outputs": []
    },
    {
      "cell_type": "code",
      "source": [
        "new_model = load_model(\"/content/drive/MyDrive/aiviz_data_model/new_shape_analysis.h5\")"
      ],
      "metadata": {
        "id": "pUe4GQkoEXg8"
      },
      "execution_count": 5,
      "outputs": []
    },
    {
      "cell_type": "code",
      "source": [
        "img=cv2.imread('/content/drive/MyDrive/test/defect/defect_00006008-9b93-45df-9c0c-1ae38117c0c7.png')\n"
      ],
      "metadata": {
        "id": "P3iRUzqVIwDN"
      },
      "execution_count": 6,
      "outputs": []
    },
    {
      "cell_type": "code",
      "source": [
        "def n_image(image):\n",
        "  img=cv2.imread(image)\n",
        "\n",
        "  resize = tf.image.resize(img, (256,256))\n",
        "  print(resize.shape)\n",
        "  yhat = new_model.predict(np.expand_dims(resize/255, 0))\n",
        "  print(yhat)\n",
        "  prediction=[\"good\" if i > 0.5 else \"defect\" for i in yhat]\n",
        "\n",
        "  plt.imshow(resize.numpy().astype(int))\n",
        "  plt.title(f'prediction:{prediction}')\n",
        "  plt.show()\n"
      ],
      "metadata": {
        "id": "i9iizSwxI4cy"
      },
      "execution_count": 33,
      "outputs": []
    },
    {
      "cell_type": "code",
      "source": [
        "image='/content/drive/MyDrive/test/defect/defect_00006008-9b93-45df-9c0c-1ae38117c0c7.png'\n",
        "n_image(image)\n"
      ],
      "metadata": {
        "colab": {
          "base_uri": "https://localhost:8080/",
          "height": 316
        },
        "id": "ZE3RzqabBn5s",
        "outputId": "ccfde14e-bee1-4bff-aed6-124a36a11568"
      },
      "execution_count": 34,
      "outputs": [
        {
          "output_type": "stream",
          "name": "stdout",
          "text": [
            "(256, 256, 3)\n",
            "[[0.01348233]]\n"
          ]
        },
        {
          "output_type": "display_data",
          "data": {
            "text/plain": [
              "<Figure size 432x288 with 1 Axes>"
            ],
            "image/png": "[encoded data removed]"
          },
          "metadata": {
            "needs_background": "light"
          }
        }
      ]
    },
    {
      "cell_type": "code",
      "source": [
        "test_img= '/content/drive/MyDrive/test'"
      ],
      "metadata": {
        "id": "eQP1yd-oqIvP"
      },
      "execution_count": 29,
      "outputs": []
    },
    {
      "cell_type": "code",
      "source": [
        "test_data = tf.keras.utils.image_dataset_from_directory(test_img,batch_size=1)"
      ],
      "metadata": {
        "colab": {
          "base_uri": "https://localhost:8080/"
        },
        "id": "62DrdDxnIWwP",
        "outputId": "ee4ccdbb-6e9b-4923-8d49-29015a0a49dd"
      },
      "execution_count": 30,
      "outputs": [
        {
          "output_type": "stream",
          "name": "stdout",
          "text": [
            "Found 120 files belonging to 2 classes.\n"
          ]
        }
      ]
    },
    {
      "cell_type": "code",
      "source": [
        "test_data = test_data.map(lambda x,y: (x/255, y))"
      ],
      "metadata": {
        "id": "Lh1iHc50V5Oe"
      },
      "execution_count": 31,
      "outputs": []
    },
    {
      "cell_type": "code",
      "source": [
        "score=new_model.evaluate(test_data)"
      ],
      "metadata": {
        "colab": {
          "base_uri": "https://localhost:8080/"
        },
        "id": "moajdVvmEt3W",
        "outputId": "beecd26d-8324-463c-a681-ee7eb79aa9a9"
      },
      "execution_count": 32,
      "outputs": [
        {
          "output_type": "stream",
          "name": "stdout",
          "text": [
            "120/120 [==============================] - 25s 190ms/step - loss: 0.3379 - accuracy: 0.9167\n"
          ]
        }
      ]
    },
    {
      "cell_type": "code",
      "source": [
        "fig,ax  = plt.subplots(figsize=(6,6))\n",
        "\n",
        "for idx,batch in enumerate(test_data):\n",
        "  if idx>5:\n",
        "    break\n",
        "    \n",
        "  ax=plt.subplot(2,3,idx+1) \n",
        "  X, y = batch\n",
        "  pred = new_model.predict(X)\n",
        "  actual= [\"good\" if i ==1 else \"defect\" for i in y]\n",
        "  prediction=[\"good\" if i > 0.5 else \"defect\" for i in pred]\n",
        "\n",
        "\n",
        "  plt.title(f'actual:{actual}\\n,prediction:{prediction}')\n",
        "  plt.imshow(X[0])\n",
        "  ax.axis('off')"
      ],
      "metadata": {
        "colab": {
          "base_uri": "https://localhost:8080/",
          "height": 338
        },
        "id": "-kcWZY3mz8qy",
        "outputId": "7cd0be9e-7a2f-478e-bd24-f741d0ec4fea"
      },
      "execution_count": null,
      "outputs": [
        {
          "output_type": "display_data",
          "data": {
            "text/plain": [
              "<Figure size 432x432 with 6 Axes>"
            ],
            "image/png": "[encoded data removed]"
          },
          "metadata": {
            "needs_background": "light"
          }
        }
      ]
    },
    {
      "cell_type": "code",
      "source": [
        "from tensorflow.keras.metrics import Precision, Recall, BinaryAccuracy"
      ],
      "metadata": {
        "id": "iQUelDKAbe7c"
      },
      "execution_count": null,
      "outputs": []
    },
    {
      "cell_type": "code",
      "source": [
        "for batch in test_data.as_numpy_iterator(): \n",
        "    X, y = batch\n",
        "    yhat = new_model.predict(X)\n",
        "    Precision.update_state(y, yhat)\n",
        "    Recall.update_state(y, yhat)\n",
        "    BinaryAccuracy.update_state(y, yhat)\n",
        "    "
      ],
      "metadata": {
        "id": "HlVgOjTMIWqs"
      },
      "execution_count": null,
      "outputs": []
    },
    {
      "cell_type": "code",
      "source": [
        "print(Precision.result(), Recall.result(), aBinaryAccuracycc.result())"
      ],
      "metadata": {
        "colab": {
          "base_uri": "https://localhost:8080/"
        },
        "id": "AjTUSOhkIWi6",
        "outputId": "60951e60-67f0-40c2-edd3-ce46272401ff"
      },
      "execution_count": null,
      "outputs": [
        {
          "output_type": "stream",
          "name": "stdout",
          "text": [
            "tf.Tensor(0.8787879, shape=(), dtype=float32) tf.Tensor(0.96666664, shape=(), dtype=float32) tf.Tensor(0.9166667, shape=(), dtype=float32)\n"
          ]
        }
      ]
    },
    {
      "cell_type": "code",
      "source": [
        "def predict(model):\n",
        "  predictions=[]\n",
        "  actual=[]\n",
        "  for batch in test_data.as_numpy_iterator(): \n",
        "      X, y = batch\n",
        "      test_prediction = model.predict(X)\n",
        "      predictions.append(test_prediction)\n",
        "      actual.append(y)\n",
        "  total_predictions= np.concatenate(predictions)\n",
        "  true_total = np.concatenate(actual)\n",
        "  total_predictions=[1 if i > 0.5 else 0 for i in total_predictions]\n",
        "  return true_total, total_predictions"
      ],
      "metadata": {
        "id": "W2cO8Em2YxSL"
      },
      "execution_count": null,
      "outputs": []
    },
    {
      "cell_type": "code",
      "source": [
        "true_total,total_predictions= predict(new_model)"
      ],
      "metadata": {
        "id": "jvR-GUzbbpVS"
      },
      "execution_count": null,
      "outputs": []
    },
    {
      "cell_type": "code",
      "source": [
        "len(total_predictions)"
      ],
      "metadata": {
        "colab": {
          "base_uri": "https://localhost:8080/"
        },
        "id": "XOPhR2_bbJxm",
        "outputId": "9f1b662e-7c2a-41bf-d13a-aa8f55e8d515"
      },
      "execution_count": null,
      "outputs": [
        {
          "output_type": "execute_result",
          "data": {
            "text/plain": [
              "120"
            ]
          },
          "metadata": {},
          "execution_count": 29
        }
      ]
    },
    {
      "cell_type": "code",
      "source": [
        "from sklearn.metrics import confusion_matrix, ConfusionMatrixDisplay\n",
        "cm = confusion_matrix(true_total,total_predictions,labels=[0,1])"
      ],
      "metadata": {
        "id": "z7za4tKwb5M_"
      },
      "execution_count": null,
      "outputs": []
    },
    {
      "cell_type": "code",
      "source": [
        "disp = ConfusionMatrixDisplay(confusion_matrix=cm, display_labels=['Defect','Good'])\n",
        "disp.plot()"
      ],
      "metadata": {
        "colab": {
          "base_uri": "https://localhost:8080/",
          "height": 296
        },
        "id": "QQ2u7qjCoPF4",
        "outputId": "91154b1b-11c2-47aa-94ce-e38c4da6e701"
      },
      "execution_count": null,
      "outputs": [
        {
          "output_type": "execute_result",
          "data": {
            "text/plain": [
              "<sklearn.metrics._plot.confusion_matrix.ConfusionMatrixDisplay at 0x7fe7e738bf50>"
            ]
          },
          "metadata": {},
          "execution_count": 31
        },
        {
          "output_type": "display_data",
          "data": {
            "text/plain": [
              "<Figure size 432x288 with 2 Axes>"
            ],
            "image/png": "[encoded data removed]"
          },
          "metadata": {
            "needs_background": "light"
          }
        }
      ]
    },
    {
      "cell_type": "code",
      "source": [
        "from sklearn.metrics import classification_report\n",
        "target_names = ['defect', 'good']\n",
        "print(classification_report(true_total, total_predictions, target_names=target_names))"
      ],
      "metadata": {
        "colab": {
          "base_uri": "https://localhost:8080/"
        },
        "id": "1TnOc03CBtRW",
        "outputId": "5be1604a-650d-4e8c-ac81-009d8b5a82e8"
      },
      "execution_count": null,
      "outputs": [
        {
          "output_type": "stream",
          "name": "stdout",
          "text": [
            "              precision    recall  f1-score   support\n",
            "\n",
            "      defect       0.96      0.87      0.91        60\n",
            "        good       0.88      0.97      0.92        60\n",
            "\n",
            "    accuracy                           0.92       120\n",
            "   macro avg       0.92      0.92      0.92       120\n",
            "weighted avg       0.92      0.92      0.92       120\n",
            "\n"
          ]
        }
      ]
    }
  ]
}